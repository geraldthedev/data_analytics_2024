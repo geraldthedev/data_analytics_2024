{
 "cells": [
  {
   "cell_type": "code",
   "execution_count": 8,
   "id": "d0f031c9-bde6-4d75-8971-df8de50c5a80",
   "metadata": {},
   "outputs": [
    {
     "name": "stdout",
     "output_type": "stream",
     "text": [
      "1 2 3 4 can python do more\n"
     ]
    }
   ],
   "source": [
    "one = 1\n",
    "two = 2\n",
    "three = 3\n",
    "four = 4\n",
    "can = can\n",
    "do = do\n",
    "python = python\n",
    "more = more\n",
    "\n",
    "\n",
    "print(str(one) + ' ' + str(two) + ' ' + str(three) + ' ' + str(four) + ' ' + can  + ' ' + python + ' ' + do  + ' ' + more)\n"
   ]
  },
  {
   "cell_type": "code",
   "execution_count": 13,
   "id": "2d2af1b9",
   "metadata": {},
   "outputs": [
    {
     "name": "stdout",
     "output_type": "stream",
     "text": [
      "The result is 450\n"
     ]
    }
   ],
   "source": [
    "number1 = 15\n",
    "number2 = 30\n",
    "number3 = number1 * number2\n",
    "\n",
    "print(\"The result is \"+ str(number3))"
   ]
  },
  {
   "cell_type": "code",
   "execution_count": 9,
   "id": "028a7545",
   "metadata": {},
   "outputs": [
    {
     "name": "stdout",
     "output_type": "stream",
     "text": [
      "\n",
      "              Given list: [10, 20, 30, 40, 10]\n",
      "              result is True\n",
      "\n",
      "              numbers_y = [75, 65, 35, 75, 30]\n",
      "              result is False\n",
      "              \n"
     ]
    }
   ],
   "source": [
    "numbers_x = [10, 20, 30, 40, 10]\n",
    "numbers_y = [75, 65, 35, 75, 30]\n",
    "\n",
    "def compare_function(numbers_x, numbers_y ):\n",
    "    \n",
    "   \n",
    "        if (numbers_x[0] == numbers_x[4]) | (numbers_y[0] == numbers_y[4]):\n",
    "            print(f\"\"\"\n",
    "              Given list: {numbers_x}\n",
    "              result is True\n",
    "\n",
    "              numbers_y = {numbers_y}\n",
    "              result is False\n",
    "              \"\"\")\n",
    "\n",
    "compare_function(numbers_x, numbers_y)"
   ]
  },
  {
   "cell_type": "code",
   "execution_count": 3,
   "id": "4a49ae62",
   "metadata": {},
   "outputs": [
    {
     "name": "stdout",
     "output_type": "stream",
     "text": [
      "10\n",
      "20\n",
      "55\n"
     ]
    }
   ],
   "source": [
    "this_list = [10, 20, 33, 46, 55]\n",
    "\n",
    "for divi in this_list:\n",
    "    if divi % 5 == 0 :\n",
    "        print(divi)"
   ]
  },
  {
   "cell_type": "code",
   "execution_count": 44,
   "id": "10fb181f",
   "metadata": {},
   "outputs": [
    {
     "name": "stdout",
     "output_type": "stream",
     "text": [
      "Anjali appeared 2 times\n"
     ]
    }
   ],
   "source": [
    "str_x = \"Anjali is good developer. Anjali is a writer\"\n",
    "str_y = \"Anjali\"\n",
    "\n",
    "count = 0\n",
    "start = 0\n",
    "\n",
    "for i in range(len(str_x)):\n",
    "    x = str_x.find(str_y, start)\n",
    "    if(x !=-1):\n",
    "        start = x+1\n",
    "        count+=1\n",
    "print(f\"Anjali appeared {count} times\")"
   ]
  },
  {
   "cell_type": "code",
   "execution_count": 61,
   "id": "65c186f3",
   "metadata": {},
   "outputs": [
    {
     "name": "stdout",
     "output_type": "stream",
     "text": [
      "1\n",
      "22\n",
      "333\n",
      "4444\n",
      "55555\n"
     ]
    }
   ],
   "source": [
    "count = 5\n",
    "\n",
    "for i in range(1,count+1):\n",
    "        for x in range(1,i+1):\n",
    "                print(i, end=\"\")\n",
    "        print(\"\")\n"
   ]
  },
  {
   "cell_type": "code",
   "execution_count": 23,
   "id": "f1a2e0d2",
   "metadata": {},
   "outputs": [
    {
     "name": "stdout",
     "output_type": "stream",
     "text": [
      "1 21 31 41 51 61 71 81 9\n",
      "2 32 42 52 62 72 82 92 10\n",
      "3 43 53 63 73 83 93 103 11\n",
      "4 54 64 74 84 94 104 114 12\n",
      "5 65 75 85 95 105 115 125 13\n",
      "6 76 86 96 106 116 126 136 14\n",
      "7 87 97 107 117 127 137 147 15\n",
      "8 98 108 118 128 138 148 158 16\n"
     ]
    }
   ],
   "source": [
    "number = 10\n",
    "\n",
    "for i in range(1,9):\n",
    "    for j in range(1,9):\n",
    "        print(i, i+1*j , end=\"\")\n",
    "    print(\"\")\n",
    "    \n",
    "   "
   ]
  },
  {
   "cell_type": "code",
   "execution_count": 121,
   "id": "4e89929d",
   "metadata": {},
   "outputs": [
    {
     "name": "stdout",
     "output_type": "stream",
     "text": [
      "[ 117.5  -165.63  -47.9     2.83   45.03 -184.7 ]\n"
     ]
    }
   ],
   "source": [
    "import numpy as np\n",
    "\n",
    "Temp_K = [390.65, 107.52, 225.25, 275.98, 318.18, 88.45]\n",
    "\n",
    "c_array1 = np.array(Temp_K)\n",
    "cel_array = c_array1 - 273.15\n",
    "\n",
    "print(cel_array)\n",
    "\n",
    "\n",
    "\n",
    "\n",
    "\n",
    "\n"
   ]
  },
  {
   "cell_type": "code",
   "execution_count": 41,
   "id": "223155ce",
   "metadata": {},
   "outputs": [
    {
     "name": "stdout",
     "output_type": "stream",
     "text": [
      "  Student Hair Color Eye Color  Weight in kilograms\n",
      "1   Tommy      Brown     Hazel                   60\n",
      "2    Fred       Grey     Green                   80\n",
      "3    Gail     Blonde      Blue                   76\n",
      "4  Gerald      Black     Brown                   60\n",
      "5   Randy      Black     Hazel                   88\n",
      "6   Ariel      Brown      Blue                   85\n",
      "1     Brown\n",
      "2      Grey\n",
      "3    Blonde\n",
      "4     Black\n",
      "5     Black\n",
      "6     Brown\n",
      "Name: Hair Color, dtype: object\n",
      "Eye Color   Eye Color\n",
      "1     Hazel\n",
      "2     Green\n",
      "3      Blue\n",
      "4     Brown\n",
      "5     Hazel\n",
      "6      Blue\n",
      "  Student  Weight in kilograms\n",
      "1   Tommy                   60\n",
      "2    Fred                   80\n",
      "3    Gail                   76\n",
      "4  Gerald                   60\n",
      "5   Randy                   88\n",
      "6   Ariel                   85\n",
      "                              Weight in kilograms\n",
      "Student Hair Color Eye Color                     \n",
      "Ariel   Brown      Blue                         1\n",
      "Fred    Grey       Green                        1\n",
      "Gail    Blonde     Blue                         1\n",
      "Gerald  Black      Brown                        1\n",
      "Randy   Black      Hazel                        1\n",
      "Tommy   Brown      Hazel                        1\n"
     ]
    }
   ],
   "source": [
    "import pandas as pd\n",
    "\n",
    "student_dict ={\n",
    "    'Student':[\"Tommy\", \"Fred\", \"Gail\", \"Gerald\", \"Randy\", \"Ariel\"],\n",
    "    'Hair Color':[\"Brown\", \"Grey\", \"Blonde\", \"Black\", \"Black\",\"Brown\"],\n",
    "    'Eye Color':[\"Hazel\", \"Green\", \"Blue\", \"Brown\", \"Hazel\", \"Blue\"], \n",
    "    'Weight in kilograms':[60, 80, 76, 60, 88, 85]\n",
    "    \n",
    "\n",
    "}\n",
    "\n",
    "dict_data= pd.DataFrame(student_dict, index=[1, 2, 3, 4, 5,6])\n",
    "print(dict_data)\n",
    "print(dict_data[\"Hair Color\"])\n",
    "print(pd.DataFrame(dict_data[\"Eye Color\"]))\n",
    "print(pd.DataFrame(dict_data[[\"Student\", \"Weight in kilograms\"]]))\n",
    "\n",
    "group = dict_data.groupby([\"Student\", \"Hair Color\", \"Eye Color\"])\n",
    "print(group.count())\n",
    "\n",
    "\n"
   ]
  }
 ],
 "metadata": {
  "kernelspec": {
   "display_name": "Python 3 (ipykernel)",
   "language": "python",
   "name": "python3"
  },
  "language_info": {
   "codemirror_mode": {
    "name": "ipython",
    "version": 3
   },
   "file_extension": ".py",
   "mimetype": "text/x-python",
   "name": "python",
   "nbconvert_exporter": "python",
   "pygments_lexer": "ipython3",
   "version": "3.12.1"
  }
 },
 "nbformat": 4,
 "nbformat_minor": 5
}
