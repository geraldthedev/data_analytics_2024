{
 "cells": [
  {
   "cell_type": "code",
   "execution_count": null,
   "metadata": {},
   "outputs": [
    {
     "data": {
      "text/html": [
       "<div>\n",
       "<style scoped>\n",
       "    .dataframe tbody tr th:only-of-type {\n",
       "        vertical-align: middle;\n",
       "    }\n",
       "\n",
       "    .dataframe tbody tr th {\n",
       "        vertical-align: top;\n",
       "    }\n",
       "\n",
       "    .dataframe thead th {\n",
       "        text-align: right;\n",
       "    }\n",
       "</style>\n",
       "<table border=\"1\" class=\"dataframe\">\n",
       "  <thead>\n",
       "    <tr style=\"text-align: right;\">\n",
       "      <th></th>\n",
       "      <th>LastName</th>\n",
       "      <th>FirstName</th>\n",
       "      <th>Name</th>\n",
       "      <th>Title</th>\n",
       "    </tr>\n",
       "  </thead>\n",
       "  <tbody>\n",
       "    <tr>\n",
       "      <th>0</th>\n",
       "      <td>Almeida</td>\n",
       "      <td>Roberto</td>\n",
       "      <td>Blackened</td>\n",
       "      <td>...And Justice For All</td>\n",
       "    </tr>\n",
       "    <tr>\n",
       "      <th>1</th>\n",
       "      <td>Almeida</td>\n",
       "      <td>Roberto</td>\n",
       "      <td>Rock You Like a Hurricane</td>\n",
       "      <td>20th Century Masters - The Millennium Collecti...</td>\n",
       "    </tr>\n",
       "    <tr>\n",
       "      <th>2</th>\n",
       "      <td>Almeida</td>\n",
       "      <td>Roberto</td>\n",
       "      <td>Fanfare for the Common Man</td>\n",
       "      <td>A Copland Celebration, Vol. I</td>\n",
       "    </tr>\n",
       "    <tr>\n",
       "      <th>3</th>\n",
       "      <td>Almeida</td>\n",
       "      <td>Roberto</td>\n",
       "      <td>Different World</td>\n",
       "      <td>A Matter of Life and Death</td>\n",
       "    </tr>\n",
       "    <tr>\n",
       "      <th>4</th>\n",
       "      <td>Almeida</td>\n",
       "      <td>Roberto</td>\n",
       "      <td>The Number Of The Beast</td>\n",
       "      <td>A Real Dead One</td>\n",
       "    </tr>\n",
       "  </tbody>\n",
       "</table>\n",
       "</div>"
      ],
      "text/plain": [
       "  LastName FirstName                        Name  \\\n",
       "0  Almeida   Roberto                   Blackened   \n",
       "1  Almeida   Roberto   Rock You Like a Hurricane   \n",
       "2  Almeida   Roberto  Fanfare for the Common Man   \n",
       "3  Almeida   Roberto             Different World   \n",
       "4  Almeida   Roberto     The Number Of The Beast   \n",
       "\n",
       "                                               Title  \n",
       "0                             ...And Justice For All  \n",
       "1  20th Century Masters - The Millennium Collecti...  \n",
       "2                      A Copland Celebration, Vol. I  \n",
       "3                         A Matter of Life and Death  \n",
       "4                                    A Real Dead One  "
      ]
     },
     "execution_count": 4,
     "metadata": {},
     "output_type": "execute_result"
    }
   ],
   "source": [
    "import sqlalchemy as sqla \n",
    "import pandas as pd\n",
    "import numpy as np\n",
    "\n",
    "\n",
    "\n",
    "engine = sqla.create_engine('sqlite:////Users/geraldbryant/Classes/Data Analysis/class/Chinook_Sqlite.sqlite')\n",
    "\n",
    "sql = '''\n",
    "SELECT LastName, FirstName, Name, Title\n",
    "        FROM  Customer, Album\n",
    "        JOIN Track ON Track.AlbumId=Album.AlbumId\n",
    "        GROUP BY LastName, FirstName,Title\n",
    "        '''\n",
    "\n",
    "pd.read_sql(sql, engine).head()\n",
    "\n",
    "\n"
   ]
  },
  {
   "cell_type": "markdown",
   "metadata": {},
   "source": [
    "#Project 3 Submission\n",
    "\n",
    "To get the expected results, I utililized the SQLAlchemy library in order to access the database/SQLite file to join the tables associated with the Track and the Album to link to the customer. "
   ]
  }
 ],
 "metadata": {
  "kernelspec": {
   "display_name": "Python 3 (ipykernel)",
   "language": "python",
   "name": "python3"
  },
  "language_info": {
   "codemirror_mode": {
    "name": "ipython",
    "version": 3
   },
   "file_extension": ".py",
   "mimetype": "text/x-python",
   "name": "python",
   "nbconvert_exporter": "python",
   "pygments_lexer": "ipython3",
   "version": "3.12.5"
  }
 },
 "nbformat": 4,
 "nbformat_minor": 4
}
