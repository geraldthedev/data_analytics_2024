{
 "cells": [
  {
   "cell_type": "markdown",
   "metadata": {},
   "source": [
    "# Week 2: Jupyter Notebook Topic\n",
    "\n",
    "## Dictionaries \n",
    "\n",
    "Dictionaries are similar to objects in languages like Javascript. With the ability to assign key-value pairs, it presents and opportunity to create more structured data that can be used accross a project. \n",
    "\n",
    "One of the concepts of using defaultdict as a means that you can create an empty dictionary, list, or function to collect results without checking for keys, which would return a `KeyError`.\n"
   ]
  },
  {
   "cell_type": "code",
   "execution_count": 27,
   "metadata": {},
   "outputs": [
    {
     "name": "stdout",
     "output_type": "stream",
     "text": [
      "defaultdict with lists  defaultdict(<class 'list'>, {'movies': [['Deadpool', 'Spiderman', 'Wolverine']], 'tv shows': [['The Flash', 'Green Lantern', 'Batman']]})\n",
      "defaultdict with dictionaries  defaultdict(<class 'dict'>, {'Ralph': {'Activity': 'Biking'}})\n"
     ]
    }
   ],
   "source": [
    "from collections import defaultdict\n",
    "\n",
    "# lists\n",
    "my_defaultList = defaultdict(list)\n",
    "\n",
    "my_defaultList['movies'].append(['Deadpool', 'Spiderman', 'Wolverine'])\n",
    "my_defaultList['tv shows'].append(['The Flash', 'Green Lantern', 'Batman'])\n",
    "\n",
    "print(\"defaultdict with lists \",my_defaultList)\n",
    "\n",
    "# dictionaries\n",
    "\n",
    "my_defaultDict = defaultdict(dict)\n",
    "\n",
    "my_defaultDict[\"Ralph\"][\"Activity\"] = \"Biking\"\n",
    "\n",
    "\n",
    "print(\"defaultdict with dictionaries \",my_defaultDict)"
   ]
  },
  {
   "cell_type": "markdown",
   "metadata": {},
   "source": [
    "Once initilized, you can still use these manupulate the values of the object normmally. "
   ]
  },
  {
   "cell_type": "code",
   "execution_count": 28,
   "metadata": {},
   "outputs": [
    {
     "name": "stdout",
     "output_type": "stream",
     "text": [
      "defaultdict(<class 'list'>, {'movies': [['Deadpool', 'Spiderman', 'Wolverine', 'Stark']], 'tv shows': [['The Flash', 'Green Lantern']]})\n",
      "defaultdict(<class 'dict'>, {})\n"
     ]
    }
   ],
   "source": [
    "my_defaultList['movies'][0].append(\"Stark\")\n",
    "my_defaultList['tv shows'][0].pop()\n",
    "\n",
    "print(my_defaultList)\n",
    "\n",
    "my_defaultDict.pop('Ralph')\n",
    "\n",
    "\n",
    "print(my_defaultDict)"
   ]
  }
 ],
 "metadata": {
  "kernelspec": {
   "display_name": "Python 3 (ipykernel)",
   "language": "python",
   "name": "python3"
  },
  "language_info": {
   "codemirror_mode": {
    "name": "ipython",
    "version": 3
   },
   "file_extension": ".py",
   "mimetype": "text/x-python",
   "name": "python",
   "nbconvert_exporter": "python",
   "pygments_lexer": "ipython3",
   "version": "3.12.1"
  }
 },
 "nbformat": 4,
 "nbformat_minor": 2
}
