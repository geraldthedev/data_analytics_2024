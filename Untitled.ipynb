{
 "cells": [
  {
   "cell_type": "code",
   "execution_count": 8,
   "id": "d0f031c9-bde6-4d75-8971-df8de50c5a80",
   "metadata": {},
   "outputs": [
    {
     "name": "stdout",
     "output_type": "stream",
     "text": [
      "1 2 3 4 can python do more\n"
     ]
    }
   ],
   "source": [
    "one = 1\n",
    "two = 2\n",
    "three = 3\n",
    "four = 4\n",
    "can = can\n",
    "do = do\n",
    "python = python\n",
    "more = more\n",
    "\n",
    "\n",
    "print(str(one) + ' ' + str(two) + ' ' + str(three) + ' ' + str(four) + ' ' + can  + ' ' + python + ' ' + do  + ' ' + more)\n"
   ]
  },
  {
   "cell_type": "code",
   "execution_count": 13,
   "id": "2d2af1b9",
   "metadata": {},
   "outputs": [
    {
     "name": "stdout",
     "output_type": "stream",
     "text": [
      "The result is 450\n"
     ]
    }
   ],
   "source": [
    "number1 = 15\n",
    "number2 = 30\n",
    "number3 = number1 * number2\n",
    "\n",
    "print(\"The result is \"+ str(number3))"
   ]
  },
  {
   "cell_type": "code",
   "execution_count": 1,
   "id": "7e4dec39",
   "metadata": {},
   "outputs": [],
   "source": [
    "numbers_x = [10, 20, 30, 40, 10]\n",
    "numbers_y = [75, 65, 35, 75, 30]\n",
    "\n",
    "def compare_function(numbers_x, numbers_y ):\n",
    "    \n",
    "   \n",
    "        if (numbers_x[0] == numbers_x[4]) & (numbers_y[0] == numbers_y[4]):\n",
    "            print(f\"\"\"\n",
    "              Given list: {numbers_x}\n",
    "              result is True\n",
    "\n",
    "              numbers_y = {numbers_y}\n",
    "              result is False\n",
    "              \"\"\")\n",
    "\n",
    "compare_function(numbers_x, numbers_y)"
   ]
  },
  {
   "cell_type": "code",
   "execution_count": 47,
   "id": "4a49ae62",
   "metadata": {},
   "outputs": [
    {
     "name": "stdout",
     "output_type": "stream",
     "text": [
      "10\n",
      "20\n",
      "55\n"
     ]
    }
   ],
   "source": [
    "this_list = [10, 20, 33, 46, 55]\n",
    "\n",
    "for divi in this_list:\n",
    "    if divi % 5 == 0 :\n",
    "        print(divi)"
   ]
  },
  {
   "cell_type": "code",
   "execution_count": 46,
   "id": "10fb181f",
   "metadata": {},
   "outputs": [
    {
     "name": "stdout",
     "output_type": "stream",
     "text": [
      "Anjali appeared 2 times\n"
     ]
    }
   ],
   "source": [
    "str_x = \"Anjali is good developer. Anjali is a writer\"\n",
    "str_y = \"Anjali\"\n",
    "\n",
    "count = 0\n",
    "start = 0\n",
    "\n",
    "for i in range(len(str_x)):\n",
    "    x = str_x.find(str_y, start)\n",
    "    if(x !=-1):\n",
    "        start = x+1\n",
    "        count+=1\n",
    "print(f\"Anjali appeared {count} times\")"
   ]
  },
  {
   "cell_type": "code",
   "execution_count": 116,
   "id": "65c186f3",
   "metadata": {},
   "outputs": [
    {
     "name": "stdout",
     "output_type": "stream",
     "text": [
      "1\n",
      "2\n",
      "3\n",
      "4\n",
      "5\n"
     ]
    }
   ],
   "source": [
    "count = 5\n",
    "count_set = []\n",
    "\n",
    "for i in range(1,count+1):\n",
    "        print(i)\n"
   ]
  },
  {
   "cell_type": "code",
   "execution_count": null,
   "id": "f1a2e0d2",
   "metadata": {},
   "outputs": [],
   "source": []
  },
  {
   "cell_type": "code",
   "execution_count": 121,
   "id": "4e89929d",
   "metadata": {},
   "outputs": [
    {
     "name": "stdout",
     "output_type": "stream",
     "text": [
      "[ 117.5  -165.63  -47.9     2.83   45.03 -184.7 ]\n"
     ]
    }
   ],
   "source": [
    "import numpy as np\n",
    "\n",
    "Temp_K = [390.65, 107.52, 225.25, 275.98, 318.18, 88.45]\n",
    "\n",
    "c_array1 = np.array(Temp_K)\n",
    "cel_array = c_array1 - 273.15\n",
    "\n",
    "print(cel_array)\n",
    "\n",
    "\n",
    "\n",
    "\n",
    "\n",
    "\n"
   ]
  }
 ],
 "metadata": {
  "kernelspec": {
   "display_name": "Python 3 (ipykernel)",
   "language": "python",
   "name": "python3"
  }
 },
 "nbformat": 4,
 "nbformat_minor": 5
}
