{
 "cells": [
  {
   "cell_type": "code",
   "execution_count": 51,
   "metadata": {},
   "outputs": [
    {
     "data": {
      "text/html": [
       "<div>\n",
       "<style scoped>\n",
       "    .dataframe tbody tr th:only-of-type {\n",
       "        vertical-align: middle;\n",
       "    }\n",
       "\n",
       "    .dataframe tbody tr th {\n",
       "        vertical-align: top;\n",
       "    }\n",
       "\n",
       "    .dataframe thead th {\n",
       "        text-align: right;\n",
       "    }\n",
       "</style>\n",
       "<table border=\"1\" class=\"dataframe\">\n",
       "  <thead>\n",
       "    <tr style=\"text-align: right;\">\n",
       "      <th></th>\n",
       "      <th>&lt;_io.TextIOWrapper name='/Users/geraldbryant/classes/Data Analysis/class/auto+mpg/auto-mpg.names' mode='r' encoding='UTF-8'&gt;</th>\n",
       "    </tr>\n",
       "  </thead>\n",
       "  <tbody>\n",
       "  </tbody>\n",
       "</table>\n",
       "</div>"
      ],
      "text/plain": [
       "Empty DataFrame\n",
       "Columns: [<_io.TextIOWrapper name='/Users/geraldbryant/classes/Data Analysis/class/auto+mpg/auto-mpg.names' mode='r' encoding='UTF-8'>]\n",
       "Index: []"
      ]
     },
     "execution_count": 51,
     "metadata": {},
     "output_type": "execute_result"
    }
   ],
   "source": [
    "import pandas as pd\n",
    "import numpy as np\n",
    "\n",
    "\n",
    "auto_data_raw = open('/Users/geraldbryant/classes/Data Analysis/class/auto+mpg/auto-mpg.data')\n",
    "auto_data_names = open('/Users/geraldbryant/classes/Data Analysis/class/auto+mpg/auto-mpg.names')\n",
    "#auto_data = pd.DataFrame(auto_data_raw)\n",
    "\n",
    "listed = auto_data_raw\n",
    "\n",
    "listed2 = list(listed)\n",
    "\n",
    "listed2\n",
    "\n",
    "auto = pd.DataFrame(list(auto_data_raw), columns=[auto_data_names])\n",
    "\n",
    "auto\n",
    "\n",
    "%matplotlib\n",
    "\n",
    "#auto = pd.DataFrame.from_records(data=auto_data, columns=['mpg', 'cylinders', 'displacement', 'horsepower', 'weight', 'acceleration', 'model year', 'origin', 'car name'])\n",
    "\n",
    "# columns=['mpg', 'cylinders', 'displacement', 'horsepower', 'weight', 'acceleration', 'model year', 'origin', 'car name'], index={auto_data}\n",
    "\n",
    "#auto\n"
   ]
  }
 ],
 "metadata": {
  "kernelspec": {
   "display_name": "class",
   "language": "python",
   "name": "python3"
  },
  "language_info": {
   "codemirror_mode": {
    "name": "ipython",
    "version": 3
   },
   "file_extension": ".py",
   "mimetype": "text/x-python",
   "name": "python",
   "nbconvert_exporter": "python",
   "pygments_lexer": "ipython3",
   "version": "3.12.1"
  }
 },
 "nbformat": 4,
 "nbformat_minor": 2
}
