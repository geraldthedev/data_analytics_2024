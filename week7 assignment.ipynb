{
 "cells": [
  {
   "cell_type": "code",
   "execution_count": 227,
   "metadata": {},
   "outputs": [
    {
     "data": {
      "text/html": [
       "<div>\n",
       "<style scoped>\n",
       "    .dataframe tbody tr th:only-of-type {\n",
       "        vertical-align: middle;\n",
       "    }\n",
       "\n",
       "    .dataframe tbody tr th {\n",
       "        vertical-align: top;\n",
       "    }\n",
       "\n",
       "    .dataframe thead th {\n",
       "        text-align: right;\n",
       "    }\n",
       "</style>\n",
       "<table border=\"1\" class=\"dataframe\">\n",
       "  <thead>\n",
       "    <tr style=\"text-align: right;\">\n",
       "      <th></th>\n",
       "      <th>Dune: Part Two</th>\n",
       "      <th>Oppenheimer</th>\n",
       "      <th>Spider-Man: Across the Spider-Verse</th>\n",
       "      <th>Ford v Ferrari</th>\n",
       "      <th>Spider-Man: No Way Home</th>\n",
       "    </tr>\n",
       "  </thead>\n",
       "  <tbody>\n",
       "    <tr>\n",
       "      <th>sum</th>\n",
       "      <td>15.0</td>\n",
       "      <td>22</td>\n",
       "      <td>12.0</td>\n",
       "      <td>10.0</td>\n",
       "      <td>17.0</td>\n",
       "    </tr>\n",
       "  </tbody>\n",
       "</table>\n",
       "</div>"
      ],
      "text/plain": [
       "     Dune: Part Two  Oppenheimer  Spider-Man: Across the Spider-Verse  \\\n",
       "sum            15.0           22                                 12.0   \n",
       "\n",
       "     Ford v Ferrari  Spider-Man: No Way Home  \n",
       "sum            10.0                     17.0  "
      ]
     },
     "execution_count": 227,
     "metadata": {},
     "output_type": "execute_result"
    }
   ],
   "source": [
    "import pandas as pd\n",
    "\n",
    "\n",
    "movies = pd.read_csv('/Users/geraldbryant/classes/Data Analysis/class/movie ratings - Sheet1.csv')\n",
    "\n",
    "movies\n",
    "agg = movies.agg({'Dune: Part Two':['sum'],'Oppenheimer':['sum'],'Spider-Man: Across the Spider-Verse':['sum'],'Ford v Ferrari':['sum'],'Spider-Man: No Way Home':['sum'] })\n",
    "\n",
    "agg"
   ]
  },
  {
   "cell_type": "markdown",
   "metadata": {},
   "source": [
    "##Analysis\n",
    "\n",
    "Analysis of data from aggregated data"
   ]
  }
 ],
 "metadata": {
  "kernelspec": {
   "display_name": "Python 3 (ipykernel)",
   "language": "python",
   "name": "python3"
  },
  "language_info": {
   "codemirror_mode": {
    "name": "ipython",
    "version": 3
   },
   "file_extension": ".py",
   "mimetype": "text/x-python",
   "name": "python",
   "nbconvert_exporter": "python",
   "pygments_lexer": "ipython3",
   "version": "3.12.1"
  }
 },
 "nbformat": 4,
 "nbformat_minor": 2
}
