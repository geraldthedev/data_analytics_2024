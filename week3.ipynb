{
 "cells": [
  {
   "cell_type": "code",
   "execution_count": 7,
   "metadata": {},
   "outputs": [
    {
     "name": "stdout",
     "output_type": "stream",
     "text": [
      "/Users/geraldbryant\n",
      "   Airline   Status  Los Angeles  Pheonix  San Deigo  San Francisco  Seattle\n",
      "0   Alaska  on time        497.0    221.0      212.0          503.0   1841.0\n",
      "1      NaN  delayed         62.0     12.0       20.0          102.0    305.0\n",
      "2      NaN      NaN          NaN      NaN        NaN            NaN      NaN\n",
      "3  AM West  on time        694.0   4840.0      383.0          320.0    201.0\n",
      "4      NaN  delayed        117.0    415.0       65.0          129.0     61.0\n"
     ]
    }
   ],
   "source": [
    "import os\n",
    "import pandas as pd\n",
    "\n",
    "current = os.getcwd()\n",
    "print(current)\n",
    "data = pd.read_csv('/Users/geraldbryant/classes/Data Analysis/Flight status - Sheet1.csv')\n",
    "\n",
    "print(data)"
   ]
  }
 ],
 "metadata": {
  "kernelspec": {
   "display_name": "Python 3 (ipykernel)",
   "language": "python",
   "name": "python3"
  },
  "language_info": {
   "codemirror_mode": {
    "name": "ipython",
    "version": 3
   },
   "file_extension": ".py",
   "mimetype": "text/x-python",
   "name": "python",
   "nbconvert_exporter": "python",
   "pygments_lexer": "ipython3",
   "version": "3.12.1"
  }
 },
 "nbformat": 4,
 "nbformat_minor": 2
}
