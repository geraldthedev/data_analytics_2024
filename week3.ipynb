{
 "cells": [
  {
   "cell_type": "code",
   "execution_count": 309,
   "metadata": {},
   "outputs": [
    {
     "name": "stderr",
     "output_type": "stream",
     "text": [
      "/var/folders/1s/6qqvsj8s4c96mz6qr7gx1hzm0000gn/T/ipykernel_26160/3465231841.py:10: FutureWarning: Series.__getitem__ treating keys as positions is deprecated. In a future version, integer keys will always be treated as labels (consistent with DataFrame behavior). To access a value by position, use `ser.iloc[pos]`\n",
      "  index1.insert(5, \"Total Flights\", [index1.iloc[0][0]+index1.iloc[0][1]+index1.iloc[0][2]+index1.iloc[0][3] ,index1.iloc[1][0]+index1.iloc[1][1]+index1.iloc[2][2]+index1.iloc[3][3],index1.iloc[2][0]+index1.iloc[2][1]+index1.iloc[2][2]+index1.iloc[2][3],index1.iloc[3][0]+index1.iloc[3][1]+index1.iloc[3][2]+index1.iloc[3][3]])\n"
     ]
    },
    {
     "data": {
      "text/html": [
       "<div>\n",
       "<style scoped>\n",
       "    .dataframe tbody tr th:only-of-type {\n",
       "        vertical-align: middle;\n",
       "    }\n",
       "\n",
       "    .dataframe tbody tr th {\n",
       "        vertical-align: top;\n",
       "    }\n",
       "\n",
       "    .dataframe thead th {\n",
       "        text-align: right;\n",
       "    }\n",
       "</style>\n",
       "<table border=\"1\" class=\"dataframe\">\n",
       "  <thead>\n",
       "    <tr style=\"text-align: right;\">\n",
       "      <th></th>\n",
       "      <th></th>\n",
       "      <th>Los Angeles</th>\n",
       "      <th>Pheonix</th>\n",
       "      <th>San Deigo</th>\n",
       "      <th>San Francisco</th>\n",
       "      <th>Seattle</th>\n",
       "      <th>Total Flights</th>\n",
       "    </tr>\n",
       "    <tr>\n",
       "      <th>Airline</th>\n",
       "      <th>Status</th>\n",
       "      <th></th>\n",
       "      <th></th>\n",
       "      <th></th>\n",
       "      <th></th>\n",
       "      <th></th>\n",
       "      <th></th>\n",
       "    </tr>\n",
       "  </thead>\n",
       "  <tbody>\n",
       "    <tr>\n",
       "      <th rowspan=\"2\" valign=\"top\">AM West</th>\n",
       "      <th>delayed</th>\n",
       "      <td>117.0</td>\n",
       "      <td>415.0</td>\n",
       "      <td>65.0</td>\n",
       "      <td>129.0</td>\n",
       "      <td>61.0</td>\n",
       "      <td>726.0</td>\n",
       "    </tr>\n",
       "    <tr>\n",
       "      <th>on time</th>\n",
       "      <td>694.0</td>\n",
       "      <td>4840.0</td>\n",
       "      <td>383.0</td>\n",
       "      <td>320.0</td>\n",
       "      <td>201.0</td>\n",
       "      <td>6057.0</td>\n",
       "    </tr>\n",
       "    <tr>\n",
       "      <th rowspan=\"2\" valign=\"top\">Alaska</th>\n",
       "      <th>delayed</th>\n",
       "      <td>62.0</td>\n",
       "      <td>12.0</td>\n",
       "      <td>20.0</td>\n",
       "      <td>102.0</td>\n",
       "      <td>305.0</td>\n",
       "      <td>196.0</td>\n",
       "    </tr>\n",
       "    <tr>\n",
       "      <th>on time</th>\n",
       "      <td>497.0</td>\n",
       "      <td>221.0</td>\n",
       "      <td>212.0</td>\n",
       "      <td>503.0</td>\n",
       "      <td>1841.0</td>\n",
       "      <td>1433.0</td>\n",
       "    </tr>\n",
       "  </tbody>\n",
       "</table>\n",
       "</div>"
      ],
      "text/plain": [
       "                 Los Angeles  Pheonix  San Deigo  San Francisco  Seattle  \\\n",
       "Airline Status                                                             \n",
       "AM West delayed        117.0    415.0       65.0          129.0     61.0   \n",
       "        on time        694.0   4840.0      383.0          320.0    201.0   \n",
       "Alaska  delayed         62.0     12.0       20.0          102.0    305.0   \n",
       "        on time        497.0    221.0      212.0          503.0   1841.0   \n",
       "\n",
       "                 Total Flights  \n",
       "Airline Status                  \n",
       "AM West delayed          726.0  \n",
       "        on time         6057.0  \n",
       "Alaska  delayed          196.0  \n",
       "        on time         1433.0  "
      ]
     },
     "execution_count": 309,
     "metadata": {},
     "output_type": "execute_result"
    }
   ],
   "source": [
    "\n",
    "import pandas as pd\n",
    "\n",
    "\n",
    "data = pd.read_csv('/Users/geraldbryant/classes/Data Analysis/class/Flight status2.csv')\n",
    "\n",
    "\n",
    "index1 = data.groupby(['Airline','Status']).mean()\n",
    "\n",
    "\n",
    "index1.insert(5, \"Total Flights\", [index1.iloc[0][0]+index1.iloc[0][1]+index1.iloc[0][2]+index1.iloc[0][3] ,index1.iloc[1][0]+index1.iloc[1][1]+index1.iloc[2][2]+index1.iloc[3][3],index1.iloc[2][0]+index1.iloc[2][1]+index1.iloc[2][2]+index1.iloc[2][3],index1.iloc[3][0]+index1.iloc[3][1]+index1.iloc[3][2]+index1.iloc[3][3]])\n",
    "\n",
    "index1\n",
    "\n"
   ]
  },
  {
   "cell_type": "markdown",
   "metadata": {},
   "source": [
    "# Conclusion\n",
    "\n",
    "Based on the calculations above, as a customer who needed to rely on an airline to choose to fly, I would choose AM West. They have a higher count of on time flights in comparision to delayed flights. \n",
    "\n",
    "This is the typ of data that customers and companies want to extract to help not only make their services better, but to also promote their services. "
   ]
  }
 ],
 "metadata": {
  "kernelspec": {
   "display_name": "Python 3 (ipykernel)",
   "language": "python",
   "name": "python3"
  }
 },
 "nbformat": 4,
 "nbformat_minor": 4
}
