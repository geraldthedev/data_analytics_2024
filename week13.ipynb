{
 "cells": [
  {
   "cell_type": "code",
   "execution_count": null,
   "metadata": {},
   "outputs": [
    {
     "name": "stdout",
     "output_type": "stream",
     "text": [
      "0       1\n",
      "1       1\n",
      "2       0\n",
      "3       1\n",
      "4       1\n",
      "       ..\n",
      "8118    1\n",
      "8119    1\n",
      "8120    1\n",
      "8121    0\n",
      "8122    1\n",
      "Name: poisonous, Length: 8123, dtype: int64 0        2\n",
      "1        4\n",
      "2       16\n",
      "3       14\n",
      "4        2\n",
      "        ..\n",
      "8118    14\n",
      "8119    14\n",
      "8120    14\n",
      "8121     8\n",
      "8122    14\n",
      "Name: odor, Length: 8123, dtype: int64 0        7\n",
      "1        7\n",
      "2        9\n",
      "3        3\n",
      "4        7\n",
      "        ..\n",
      "8118     5\n",
      "8119    11\n",
      "8120     5\n",
      "8121    11\n",
      "8122     5\n",
      "Name: population, Length: 8123, dtype: int64\n"
     ]
    },
    {
     "name": "stderr",
     "output_type": "stream",
     "text": [
      "/var/folders/1s/6qqvsj8s4c96mz6qr7gx1hzm0000gn/T/ipykernel_43975/1523703938.py:16: FutureWarning: Downcasting behavior in `replace` is deprecated and will be removed in a future version. To retain the old behavior, explicitly call `result.infer_objects(copy=False)`. To opt-in to the future behavior, set `pd.set_option('future.no_silent_downcasting', True)`\n",
      "  mush_cols = mush_trans[['poisonous', 'odor', 'population']].replace({'poisonous':{'p':0, 'e':1}, 'odor': {'a':2,'l':4,'c':6,'y':8,'f':10,'m':12,'n':14,'p':16,'s':18},'population':{'a':3,'c':5,'n':7,'s':9,'v':11,'y':13} })\n"
     ]
    },
    {
     "data": {
      "image/png": "[encoded data removed]",
      "text/plain": [
       "<Figure size 640x480 with 1 Axes>"
      ]
     },
     "metadata": {},
     "output_type": "display_data"
    }
   ],
   "source": [
    "import pandas as pd\n",
    "import numpy as np\n",
    "import matplotlib.pyplot as plt\n",
    "\n",
    "%matplotlib inline\n",
    "\n",
    "mush_data = \"/Users/geraldbryant/classes/Data Analysis/class/mushroom/agaricus-lepiota.data\"\n",
    "\n",
    "mush = pd.read_csv(mush_data)\n",
    "\n",
    "mush_vals = mush.values\n",
    "\n",
    "mush_trans = pd.DataFrame(data =mush_vals, columns=[\"poisonous\", \"cap-shape\", \"cap-surface\",\"cap-color\",\"bruises\",\"odor\",\"gill-attachment\",\"gill-spacing\",\"gill-size\",\"gill-color\",\"stalk-shape\",\"stalk-root\",\"stalk-surface-above-ring\",\"stalk-surface-below-ring\",\"stalk-color-above-ring\",\"stalk-color-below-ring\",\"veil-type\",\"veil-color\",\"ring-number\", \"ring-type\",\"spore-print-color\",\"population\",\"habitat\"])\n",
    "\n",
    "\n",
    "mush_cols = mush_trans[['poisonous', 'odor', 'population']].replace({'poisonous':{'p':0, 'e':1}, 'odor': {'a':2,'l':4,'c':6,'y':8,'f':10,'m':12,'n':14,'p':16,'s':18},'population':{'a':3,'c':5,'n':7,'s':9,'v':11,'y':13} })\n",
    "\n",
    "\n",
    "x=mush_cols['poisonous']\n",
    "y=mush_cols['odor']\n",
    "z=mush_cols['population']\n",
    "\n",
    "N = 8123\n",
    "\n",
    "\n",
    "colors = np.random.rand(N)\n",
    "\n",
    "plt.scatter(x,y, c=colors)\n",
    "\n",
    "plt.show()\n",
    "\n",
    "\n",
    "\n"
   ]
  },
  {
   "cell_type": "markdown",
   "metadata": {},
   "source": [
    "#Week 13 Mushroom Analysis\n",
    "\n",
    "Of the additional characteristics provided, I decided to use population alongside poisonous and odor. Population is an important metric because it helps build confidence in the likelihood that the mushroom will be accessible. If one is using the data to search for mushrooms for harvesting, the data would help them find greater quantities of edible mushrooms. "
   ]
  }
 ],
 "metadata": {
  "kernelspec": {
   "display_name": "Python 3 (ipykernel)",
   "language": "python",
   "name": "python3"
  },
  "language_info": {
   "codemirror_mode": {
    "name": "ipython",
    "version": 3
   },
   "file_extension": ".py",
   "mimetype": "text/x-python",
   "name": "python",
   "nbconvert_exporter": "python",
   "pygments_lexer": "ipython3",
   "version": "3.12.5"
  }
 },
 "nbformat": 4,
 "nbformat_minor": 2
}
