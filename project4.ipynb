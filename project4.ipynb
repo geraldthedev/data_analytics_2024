{
 "cells": [
  {
   "cell_type": "code",
   "execution_count": null,
   "metadata": {},
   "outputs": [
    {
     "name": "stdout",
     "output_type": "stream",
     "text": [
      "[[0. 0. 0.]\n",
      " [0. 0. 0.]\n",
      " [0. 0. 0.]\n",
      " ...\n",
      " [0. 0. 0.]\n",
      " [0. 0. 0.]\n",
      " [0. 0. 0.]] [[29  0  1]\n",
      " [29  0  1]\n",
      " [12  2  7]\n",
      " ...\n",
      " [29  0  1]\n",
      " [12  2  7]\n",
      " [29  0  1]]\n"
     ]
    },
    {
     "name": "stderr",
     "output_type": "stream",
     "text": [
      "/var/folders/1s/6qqvsj8s4c96mz6qr7gx1hzm0000gn/T/ipykernel_86531/4187004598.py:16: FutureWarning: Downcasting behavior in `replace` is deprecated and will be removed in a future version. To retain the old behavior, explicitly call `result.infer_objects(copy=False)`. To opt-in to the future behavior, set `pd.set_option('future.no_silent_downcasting', True)`\n",
      "  mush_cols = mush_trans[['poisonous', 'odor', 'population']].replace({'poisonous':{'p':0, 'e':1}, 'odor': {'a':2,'l':4,'c':6,'y':8,'f':10,'m':12,'n':14,'p':16,'s':18},'population':{'a':3,'c':5,'n':7,'s':9,'v':11,'y':13} })\n"
     ]
    },
    {
     "data": {
      "image/png": "[encoded data removed]",
      "text/plain": [
       "<Figure size 640x480 with 1 Axes>"
      ]
     },
     "metadata": {},
     "output_type": "display_data"
    }
   ],
   "source": [
    "import pandas as pd\n",
    "import numpy as np\n",
    "import matplotlib.pyplot as plt\n",
    "import sklearn as sk\n",
    "\n",
    "\n",
    "mush_data = \"/Users/geraldbryant/classes/Data Analysis/class/mushroom/agaricus-lepiota.data\"\n",
    "\n",
    "mush = pd.read_csv(mush_data)\n",
    "\n",
    "mush_vals = mush.values\n",
    "\n",
    "mush_trans = pd.DataFrame(data =mush_vals, columns=[\"poisonous\", \"cap-shape\", \"cap-surface\",\"cap-color\",\"bruises\",\"odor\",\"gill-attachment\",\"gill-spacing\",\"gill-size\",\"gill-color\",\"stalk-shape\",\"stalk-root\",\"stalk-surface-above-ring\",\"stalk-surface-below-ring\",\"stalk-color-above-ring\",\"stalk-color-below-ring\",\"veil-type\",\"veil-color\",\"ring-number\", \"ring-type\",\"spore-print-color\",\"population\",\"habitat\"])\n",
    "\n",
    "\n",
    "mush_cols = mush_trans[['poisonous', 'odor', 'population']].replace({'poisonous':{'p':0, 'e':1}, 'odor': {'a':2,'l':4,'c':6,'y':8,'f':10,'m':12,'n':14,'p':16,'s':18},'population':{'a':3,'c':5,'n':7,'s':9,'v':11,'y':13} })\n",
    "\n",
    "\n",
    "x=mush_cols['poisonous']\n",
    "y=mush_cols['odor']\n",
    "z=mush_cols['population']\n",
    "\n",
    "\n",
    "\n",
    "dummies = pd.get_dummies(x,y,z)\n",
    "\n",
    "\n",
    "\n",
    "\n",
    "nbrs = sk.neighbors.NearestNeighbors(n_neighbors=3, algorithm='ball_tree').fit(dummies)\n",
    "\n",
    "distances,indices = nbrs.kneighbors(dummies)\n",
    "\n",
    "\n",
    "print(distances,indices)\n",
    "\n",
    "fig, ax = plt.subplots()\n",
    "\n",
    "ax.scatter(distances,indices)\n",
    "\n",
    "plt.show()\n",
    "\n",
    "\n"
   ]
  },
  {
   "cell_type": "markdown",
   "metadata": {},
   "source": [
    "#Edible Mushroom Reliablity\n",
    "\n",
    "This data can be used to help find reliable edible mushrooms without based on the avalible population. The alignment to 0 indicates the avalible mushrooms. "
   ]
  }
 ],
 "metadata": {
  "kernelspec": {
   "display_name": ".venv",
   "language": "python",
   "name": "python3"
  },
  "language_info": {
   "codemirror_mode": {
    "name": "ipython",
    "version": 3
   },
   "file_extension": ".py",
   "mimetype": "text/x-python",
   "name": "python",
   "nbconvert_exporter": "python",
   "pygments_lexer": "ipython3",
   "version": "3.12.5"
  }
 },
 "nbformat": 4,
 "nbformat_minor": 2
}
