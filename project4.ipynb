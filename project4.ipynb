{
 "cells": [
  {
   "cell_type": "code",
   "execution_count": null,
   "metadata": {},
   "outputs": [
    {
     "name": "stderr",
     "output_type": "stream",
     "text": [
      "/var/folders/1s/6qqvsj8s4c96mz6qr7gx1hzm0000gn/T/ipykernel_86531/3751336797.py:16: FutureWarning: Downcasting behavior in `replace` is deprecated and will be removed in a future version. To retain the old behavior, explicitly call `result.infer_objects(copy=False)`. To opt-in to the future behavior, set `pd.set_option('future.no_silent_downcasting', True)`\n",
      "  mush_cols = mush_trans[['poisonous', 'odor', 'population']].replace({'poisonous':{'p':0, 'e':1}, 'odor': {'a':2,'l':4,'c':6,'y':8,'f':10,'m':12,'n':14,'p':16,'s':18},'population':{'a':3,'c':5,'n':7,'s':9,'v':11,'y':13} })\n"
     ]
    },
    {
     "name": "stdout",
     "output_type": "stream",
     "text": [
      "<Compressed Sparse Row sparse matrix of dtype 'float64'\n",
      "\twith 24369 stored elements and shape (8123, 8123)>\n",
      "  Coords\tValues\n",
      "  (0, 29)\t1.0\n",
      "  (0, 0)\t1.0\n",
      "  (0, 1)\t1.0\n",
      "  (1, 29)\t1.0\n",
      "  (1, 0)\t1.0\n",
      "  (1, 1)\t1.0\n",
      "  (2, 12)\t1.0\n",
      "  (2, 2)\t1.0\n",
      "  (2, 7)\t1.0\n",
      "  (3, 29)\t1.0\n",
      "  (3, 0)\t1.0\n",
      "  (3, 1)\t1.0\n",
      "  (4, 29)\t1.0\n",
      "  (4, 0)\t1.0\n",
      "  (4, 1)\t1.0\n",
      "  (5, 29)\t1.0\n",
      "  (5, 0)\t1.0\n",
      "  (5, 1)\t1.0\n",
      "  (6, 29)\t1.0\n",
      "  (6, 0)\t1.0\n",
      "  (6, 1)\t1.0\n",
      "  (7, 12)\t1.0\n",
      "  (7, 2)\t1.0\n",
      "  (7, 7)\t1.0\n",
      "  (8, 29)\t1.0\n",
      "  :\t:\n",
      "  (8114, 1)\t1.0\n",
      "  (8115, 12)\t1.0\n",
      "  (8115, 2)\t1.0\n",
      "  (8115, 7)\t1.0\n",
      "  (8116, 12)\t1.0\n",
      "  (8116, 2)\t1.0\n",
      "  (8116, 7)\t1.0\n",
      "  (8117, 12)\t1.0\n",
      "  (8117, 2)\t1.0\n",
      "  (8117, 7)\t1.0\n",
      "  (8118, 29)\t1.0\n",
      "  (8118, 0)\t1.0\n",
      "  (8118, 1)\t1.0\n",
      "  (8119, 29)\t1.0\n",
      "  (8119, 0)\t1.0\n",
      "  (8119, 1)\t1.0\n",
      "  (8120, 29)\t1.0\n",
      "  (8120, 0)\t1.0\n",
      "  (8120, 1)\t1.0\n",
      "  (8121, 12)\t1.0\n",
      "  (8121, 2)\t1.0\n",
      "  (8121, 7)\t1.0\n",
      "  (8122, 29)\t1.0\n",
      "  (8122, 0)\t1.0\n",
      "  (8122, 1)\t1.0\n"
     ]
    }
   ],
   "source": [
    "import pandas as pd\n",
    "import numpy as np\n",
    "import matplotlib.pyplot as plt\n",
    "import sklearn as sk\n",
    "\n",
    "\n",
    "mush_data = \"/Users/geraldbryant/classes/Data Analysis/class/mushroom/agaricus-lepiota.data\"\n",
    "\n",
    "mush = pd.read_csv(mush_data)\n",
    "\n",
    "mush_vals = mush.values\n",
    "\n",
    "mush_trans = pd.DataFrame(data =mush_vals, columns=[\"poisonous\", \"cap-shape\", \"cap-surface\",\"cap-color\",\"bruises\",\"odor\",\"gill-attachment\",\"gill-spacing\",\"gill-size\",\"gill-color\",\"stalk-shape\",\"stalk-root\",\"stalk-surface-above-ring\",\"stalk-surface-below-ring\",\"stalk-color-above-ring\",\"stalk-color-below-ring\",\"veil-type\",\"veil-color\",\"ring-number\", \"ring-type\",\"spore-print-color\",\"population\",\"habitat\"])\n",
    "\n",
    "\n",
    "mush_cols = mush_trans[['poisonous', 'odor', 'population']].replace({'poisonous':{'p':0, 'e':1}, 'odor': {'a':2,'l':4,'c':6,'y':8,'f':10,'m':12,'n':14,'p':16,'s':18},'population':{'a':3,'c':5,'n':7,'s':9,'v':11,'y':13} })\n",
    "\n",
    "\n",
    "x=mush_cols['poisonous']\n",
    "y=mush_cols['odor']\n",
    "z=mush_cols['population']\n",
    "\n",
    "\n",
    "\n",
    "dummies = pd.get_dummies(x,y,z)\n",
    "\n",
    "\n",
    "nbrs = sk.neighbors.KNeighborsClassifier(n_neighbors=3, algorithm='ball_tree').fit(dummies,y)\n",
    "\n",
    "indices = nbrs.kneighbors_graph(dummies)\n",
    "\n",
    "\n",
    "print(indices)\n",
    "\n",
    "\n"
   ]
  }
 ],
 "metadata": {
  "kernelspec": {
   "display_name": ".venv",
   "language": "python",
   "name": "python3"
  },
  "language_info": {
   "codemirror_mode": {
    "name": "ipython",
    "version": 3
   },
   "file_extension": ".py",
   "mimetype": "text/x-python",
   "name": "python",
   "nbconvert_exporter": "python",
   "pygments_lexer": "ipython3",
   "version": "3.12.5"
  }
 },
 "nbformat": 4,
 "nbformat_minor": 2
}
